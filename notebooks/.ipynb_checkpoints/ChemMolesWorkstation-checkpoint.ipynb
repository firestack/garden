{
 "cells": [
  {
   "cell_type": "code",
   "execution_count": 155,
   "metadata": {
    "collapsed": true
   },
   "outputs": [],
   "source": [
    "%run ChemMoles.py"
   ]
  },
  {
   "cell_type": "code",
   "execution_count": 51,
   "metadata": {
    "collapsed": true
   },
   "outputs": [
    {
     "data": {
      "text/plain": [
       "H2 O1 : 90.0764 g/mol"
      ]
     },
     "execution_count": 51,
     "metadata": {},
     "output_type": "execute_result"
    }
   ],
   "source": [
    "CM = Compound(\"H2\").GetMass().ToMoles()\n",
    "CM.amount = 5\n",
    "AM = Compound(\"O2\").GetMass().ToMoles()\n",
    "AM.amount = 2.5\n",
    "CM.ToGrams() + AM.ToGrams()\n",
    "BM = Compound(\"H2 o\").GetMass().ToMoles()\n",
    "BM.amount = 5\n",
    "BM.ToGrams()\n",
    "#CM.ToGrams() + AM.ToGrams()\n",
    "\n"
   ]
  },
  {
   "cell_type": "code",
   "execution_count": 109,
   "metadata": {
    "collapsed": true
   },
   "outputs": [
    {
     "name": "stdout",
     "output_type": "stream",
     "text": [
      "O2 : 31.9988 ==\n",
      "\tOxygen: 15.9994 g/mol x 2 = Oxygen: 31.9988 g/mol\n",
      "H2 : 2.01588 ==\n",
      "\tHydrogen: 1.00794 g/mol x 2 = Hydrogen: 2.01588 g/mol\n",
      "H2 O2 : 170.0734 g/mol\n",
      "O2 : 159.994 g/mol\n"
     ]
    }
   ],
   "source": [
    "O2 = Compound(\"o2\")\n",
    "H2 = Compound(\"H2\")\n",
    "Water = Compound(\"H2 O2\")\n",
    "\n",
    "O2()\n",
    "H2()\n",
    "\n",
    "\n",
    "\n",
    "Water.GetMass().ToMoles(5.0).ToGrams()()\n",
    "O2.GetMass().ToMoles(5.0).ToGrams()()"
   ]
  },
  {
   "cell_type": "code",
   "execution_count": 158,
   "metadata": {
    "collapsed": false
   },
   "outputs": [
    {
     "name": "stdout",
     "output_type": "stream",
     "text": [
      "Na1 Cl3 : 129.34876928 g/mol\n",
      "Sodium: 22.98976928 g/mol x 1 = Sodium: 22.98976928 g/mol: 17.77%\n",
      "Chlorine: 35.453 g/mol x 3 = Chlorine: 106.359 g/mol: 82.23%\n"
     ]
    }
   ],
   "source": [
    "Compound(\"Na Cl3\").GetMass().ToMoles(25).ToGrams().ratio()\n"
   ]
  }
 ],
 "metadata": {
  "kernelspec": {
   "display_name": "Python 2",
   "language": "python",
   "name": "python2"
  },
  "language_info": {
   "codemirror_mode": {
    "name": "ipython",
    "version": 2
   },
   "file_extension": ".py",
   "mimetype": "text/x-python",
   "name": "python",
   "nbconvert_exporter": "python",
   "pygments_lexer": "ipython2",
   "version": "2.7.11"
  }
 },
 "nbformat": 4,
 "nbformat_minor": 0
}
