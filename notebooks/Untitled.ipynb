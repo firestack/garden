{
 "cells": [
  {
   "cell_type": "code",
   "execution_count": 24,
   "metadata": {
    "collapsed": false
   },
   "outputs": [],
   "source": [
    "%run ChemMoles.py"
   ]
  },
  {
   "cell_type": "code",
   "execution_count": 4,
   "metadata": {
    "collapsed": false
   },
   "outputs": [
    {
     "name": "stdout",
     "output_type": "stream",
     "text": [
      "Na1 Cl1 : 58.44276928 g/mol\n",
      "Sodium: 22.98976928 g/mol x 1 = Sodium: 22.98976928 g/mol: 39.34% -> 574.744232 / 1,461.069232\n",
      "Chlorine: 35.453 g/mol x 1 = Chlorine: 35.453 g/mol: 60.66% -> 886.325 / 1,461.069232\n"
     ]
    }
   ],
   "source": [
    "Compound(\"Na Cl\").GetMass().ToMoles(25.0).ToGrams().ratio()"
   ]
  },
  {
   "cell_type": "code",
   "execution_count": 5,
   "metadata": {
    "collapsed": false
   },
   "outputs": [
    {
     "name": "stdout",
     "output_type": "stream",
     "text": [
      "Na1 Cl1 : 58.44276928 g/mol\n",
      "Sodium: 22.98976928 g/mol x 1 = Sodium: 22.98976928 g/mol: 39.34% -> 574.744232 / 1,461.069232\n",
      "Chlorine: 35.453 g/mol x 1 = Chlorine: 35.453 g/mol: 60.66% -> 886.325 / 1,461.069232\n",
      "O2 : 31.9988 ==\n",
      "\tOxygen: 15.9994 g/mol x 2 = Oxygen: 31.9988 g/mol\n",
      "H2 : 2.01588 ==\n",
      "\tHydrogen: 1.00794 g/mol x 2 = Hydrogen: 2.01588 g/mol\n",
      "H2 O2 : 170.0734 g/mol\n",
      "O2 : 159.994 g/mol\n"
     ]
    }
   ],
   "source": [
    "CM = Compound(\"H2\").GetMass().ToMoles()\n",
    "CM.amount = 5\n",
    "AM = Compound(\"O2\").GetMass().ToMoles()\n",
    "AM.amount = 2.5\n",
    "CM.ToGrams() + AM.ToGrams()\n",
    "BM = Compound(\"H2 o\").GetMass().ToMoles()\n",
    "BM.amount = 5\n",
    "BM.ToGrams()\n",
    "#CM.ToGrams() + AM.ToGrams()\n",
    "\n",
    "Compound(\"Na Cl\").GetMass().ToMoles(25).ToGrams().ratio()\n",
    "\n",
    "\n",
    "O2 = Compound(\"o2\")\n",
    "H2 = Compound(\"H2\")\n",
    "Water = Compound(\"H2 O2\")\n",
    "\n",
    "O2()\n",
    "H2()\n",
    "\n",
    "\n",
    "\n",
    "Water.GetMass().ToMoles(5.0).ToGrams()()\n",
    "O2.GetMass().ToMoles(5.0).ToGrams()()"
   ]
  },
  {
   "cell_type": "code",
   "execution_count": 6,
   "metadata": {
    "collapsed": false
   },
   "outputs": [
    {
     "name": "stdout",
     "output_type": "stream",
     "text": [
      "C1 H3 O1 H1 : 32.04186 g/mol\n",
      "Carbon: 12.0107 g/mol x 1 = Carbon: 12.0107 g/mol: 37.48% -> 37,484.403215 / 100,000\n",
      "Hydrogen: 1.00794 g/mol x 3 = Hydrogen: 3.02382 g/mol: 9.44% -> 9,437.09260324 / 100,000\n",
      "Oxygen: 15.9994 g/mol x 1 = Oxygen: 15.9994 g/mol: 49.93% -> 49,932.8066473 / 100,000\n",
      "Hydrogen: 1.00794 g/mol x 1 = Hydrogen: 1.00794 g/mol: 3.15% -> 3,145.69753441 / 100,000\n"
     ]
    },
    {
     "data": {
      "text/plain": [
       "12582.790137650001"
      ]
     },
     "execution_count": 6,
     "metadata": {},
     "output_type": "execute_result"
    }
   ],
   "source": [
    "a = Compound(\"C H3 O H\").GetMass()\n",
    "a.amount = 100000\n",
    "a.ratio()\n",
    "9437.09260324 + 3145.69753441"
   ]
  },
  {
   "cell_type": "code",
   "execution_count": 7,
   "metadata": {
    "collapsed": false
   },
   "outputs": [
    {
     "data": {
      "text/plain": [
       "100000"
      ]
     },
     "execution_count": 7,
     "metadata": {},
     "output_type": "execute_result"
    }
   ],
   "source": [
    "37484 + 12583 +49933"
   ]
  },
  {
   "cell_type": "code",
   "execution_count": 8,
   "metadata": {
    "collapsed": false
   },
   "outputs": [
    {
     "name": "stdout",
     "output_type": "stream",
     "text": [
      "C1 O2 : 44.0095 g/mol\n"
     ]
    },
    {
     "data": {
      "text/plain": [
       "Na1 O1 H1 : 12.7196692251 mol"
      ]
     },
     "execution_count": 8,
     "metadata": {},
     "output_type": "execute_result"
    }
   ],
   "source": [
    "a = Compound(\"C O2\").GetMass()()\n",
    "\n",
    "b = Compound(\"Na O H\").GetMass()\n",
    "b.amount = 508.75\n",
    "b.ToMoles()"
   ]
  },
  {
   "cell_type": "code",
   "execution_count": 9,
   "metadata": {
    "collapsed": false
   },
   "outputs": [
    {
     "data": {
      "text/plain": [
       "508.75000000000006"
      ]
     },
     "execution_count": 9,
     "metadata": {},
     "output_type": "execute_result"
    }
   ],
   "source": [
    "44.0/80* 925"
   ]
  },
  {
   "cell_type": "code",
   "execution_count": 31,
   "metadata": {
    "collapsed": false
   },
   "outputs": [
    {
     "name": "stdout",
     "output_type": "stream",
     "text": [
      "C1 O2 : 21.0181892546 mol\n",
      "C1 O2 : 925.0 g/mol\n"
     ]
    },
    {
     "data": {
      "text/plain": [
       "C1 O2 : 925.0 g/mol"
      ]
     },
     "execution_count": 31,
     "metadata": {},
     "output_type": "execute_result"
    }
   ],
   "source": [
    "Compound(\"C O2\").GetMass(925).ToMoles()().ToGrams()()\n",
    "\n"
   ]
  },
  {
   "cell_type": "code",
   "execution_count": 32,
   "metadata": {
    "collapsed": false
   },
   "outputs": [
    {
     "name": "stdout",
     "output_type": "stream",
     "text": [
      "Na1 O1 H1 : 42.0363785092 mol\n",
      "Na1 O1 H1 : 1681.33362497 g/mol\n"
     ]
    },
    {
     "data": {
      "text/plain": [
       "Na1 O1 H1 : 1681.33362497 g/mol"
      ]
     },
     "execution_count": 32,
     "metadata": {},
     "output_type": "execute_result"
    }
   ],
   "source": [
    "Compound(\"Na O H\").GetMass().ToMoles(21.0181892546 * 2)().ToGrams()()"
   ]
  }
 ],
 "metadata": {
  "kernelspec": {
   "display_name": "Python 2",
   "language": "python",
   "name": "python2"
  },
  "language_info": {
   "codemirror_mode": {
    "name": "ipython",
    "version": 2
   },
   "file_extension": ".py",
   "mimetype": "text/x-python",
   "name": "python",
   "nbconvert_exporter": "python",
   "pygments_lexer": "ipython2",
   "version": "2.7.11"
  }
 },
 "nbformat": 4,
 "nbformat_minor": 0
}
