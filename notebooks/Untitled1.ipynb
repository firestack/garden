{
 "cells": [
  {
   "cell_type": "code",
   "execution_count": 145,
   "metadata": {
    "collapsed": true
   },
   "outputs": [],
   "source": [
    "def GramsToMoles(G, E):\n",
    "    return G / E\n",
    "\n",
    "def MolesToGrams(M, E):\n",
    "    return E * M\n",
    "\n",
    "def MolesToAtoms(M):\n",
    "    return M * mol\n",
    "\n",
    "def AtomsToMoles(A):\n",
    "    return A / mol\n",
    "\n",
    "def Sorter(text):\n",
    "    element = \"\"\n",
    "    number = 1\n",
    "    completedCheck = False\n",
    "    for idx in range(len(text)):\n",
    "        if (text[idx].isdigit()):\n",
    "            \n",
    "\n",
    "            completedCheck = True\n",
    "            element = text[:idx]\n",
    "            number = int(text[idx:])\n",
    "            #return (element, number)\n",
    "            break\n",
    "            \n",
    "    if not completedCheck:\n",
    "        element = text\n",
    "        \n",
    "    return (element, number)\n",
    "        \n",
    "\n",
    "def parser(text):\n",
    "    total = 0\n",
    "    for elem in text.split(\" \"):\n",
    "        if len(elem) < 1: continue\n",
    "        \n",
    "        breakdown = Sorter(elem)\n",
    "        \n",
    "        print(\"\".join(map(str,breakdown)))\n",
    "        \n",
    "        E = element(breakdown[0])\n",
    "        \n",
    "        print(\"{}, {} x {} = {}\".format(E.name, E.mass, breakdown[1], E.mass * breakdown[1]))\n",
    "        total += E.mass * breakdown[1]\n",
    "        \n",
    "    print(\"\\n{a}\\nSize Of '{}' = {} g/mol\\n{a}\\n\".format(text.upper(),total, a=\"=\"*80))\n",
    "    return total\n",
    "\n",
    "sof = parser\n"
   ]
  },
  {
   "cell_type": "code",
   "execution_count": 151,
   "metadata": {
    "collapsed": false
   },
   "outputs": [],
   "source": [
    "\n",
    "# coding: utf-8\n",
    "\n",
    "import sys, six\n",
    "sys.version\n",
    "import periodic\n",
    "from periodic import element\n",
    "import math\n",
    "\n",
    "mol = 6.022 * 10**23\n",
    "if six.PY2:\n",
    "    pass\n",
    "else:\n",
    "\n",
    "    SUB = str.maketrans(\"0123456789\", \"₀₁₂₃₄₅₆₇₈₉\")\n",
    "    SUP = str.maketrans(\"0123456789\", \"⁰¹²³⁴⁵⁶⁷⁸⁹\")\n",
    "\n",
    "class ChemBaseObject(object):\n",
    "    pass\n",
    "    \n",
    "class UnitBaseObject(ChemBaseObject):\n",
    "    unit = \"\"\n",
    "    def __init__(self, Element, Amount):\n",
    "        self.element = Element\n",
    "        self.amount = Amount\n",
    "    \n",
    "    def __str__(self):\n",
    "        return \"{element}: {amount} {unit}\".format(element=self.element.GetName(), amount=self.amount, unit=self.unit)\n",
    "        \n",
    "    def __repr__(self):\n",
    "        return self.__str__()\n",
    "        \n",
    "    def __add__(self, other):\n",
    "        if type(other) == UnitBaseObject:\n",
    "            return self.amount + other.amount\n",
    "        return self.amount + other\n",
    "       \n",
    "    def __radd__(self, other):\n",
    "        if type(other) == UnitBaseObject:\n",
    "            return self.amount + other.amount\n",
    "            \n",
    "        return self.amount + other\n",
    "    \n",
    "class MassInterface():\n",
    "    def GetMass(self):\n",
    "        raise NotImplementedError( \"Should have implemented this\" )\n",
    "       \n",
    "    def __str__(self):\n",
    "        raise NotImplementedError( \"Should have implemented this\" )\n",
    "        \n",
    "    def __repr__(self):\n",
    "        return self.__str__()\n",
    "    def GetName(self):\n",
    "        raise NotImplementedError( \"Should have implemented this\" )\n",
    "        \n",
    "           \n",
    "class Element(ChemBaseObject, MassInterface):\n",
    "    def __init__(self, ElementName):\n",
    "        self._rep = Sorter(ElementName)\n",
    "        self.ElementRep = periodic.element(self._rep[0])\n",
    "        self.Amount = self._rep[1]\n",
    "        \n",
    "    def GetMass(self):\n",
    "        # Check #@TODO: Convert to Grams Representation\n",
    "        \n",
    "        return Grams(self, self.ElementRep.mass * self.Amount)\n",
    "        \n",
    "    def __str__(self):\n",
    "        return \"{}: {} x {} = {}\".format(self.ElementRep.name, self.ElementRep.mass, self.Amount, self.ElementRep.mass * self.Amount)\n",
    "    \n",
    "    def GetName(self):\n",
    "        return self.ElementRep.name\n",
    "        \n",
    "class Compound(ChemBaseObject, MassInterface):\n",
    "    def __init__(self, ElementString):\n",
    "        \n",
    "        self.elements = []\n",
    "        for ElementItem in ElementString.split(\" \"):\n",
    "            if len(ElementItem) < 1: continue\n",
    "            self.elements.append(Element(ElementItem))\n",
    "            \n",
    "    def GetMass(self):\n",
    "        #@TODO: Convert to Grams Representation\n",
    "        return Grams(self, sum(map(Element.GetMass, self.elements)))\n",
    "       \n",
    "    def GetCompoundName(self):\n",
    "        compoundString = \"\"\n",
    "        for element in self.elements:\n",
    "            compoundString += \"\".join(map(str, (element.ElementRep.symbol, element.Amount))) + \" \"\n",
    "            \n",
    "        return compoundString\n",
    "    \n",
    "    def GetName(self):\n",
    "        return self.GetCompoundName()\n",
    "        \n",
    "    def __str__(self):\n",
    "        return \"{}: {} ==\\n\\t{}\".format(self.GetCompoundName(), self.GetMass().amount,\"\\n\\t\".join(map(Element.__str__, self.elements)))\n",
    "    \n",
    "class Grams(UnitBaseObject):\n",
    "    def __init__(self, Element, Amount):\n",
    "        super(Grams, self).__init__(Element, Amount)\n",
    "        self.unit = \"g/mol\"\n",
    "    \n",
    "    def ToMoles(self):\n",
    "        return Moles(self.element, self.amount / self.element.GetMass().amount)\n",
    "    \n",
    "class Moles(UnitBaseObject):\n",
    "    def __init__(self, Element, Amount):\n",
    "        super(Moles, self).__init__(Element, Amount)\n",
    "        self.unit = \"mol\"\n",
    "    \n",
    "    def ToGrams(self):\n",
    "        return Grams(self.element, self.element.GetMass().amount * self.amount)\n",
    "            \n",
    "    def ToParticles(self):\n",
    "        return Particles(self.element, self.amount * mol)\n",
    "    \n",
    "class Particles(UnitBaseObject):\n",
    "    def __init__(self, Element, Amount):\n",
    "        super(Particles, self).__init__(Element, Amount)\n",
    "        self.unit = \"particles\"\n",
    "        \n",
    "    def ToMoles(self):\n",
    "        Moles(self.element, self.amount / mol)\n"
   ]
  },
  {
   "cell_type": "code",
   "execution_count": 159,
   "metadata": {
    "collapsed": false
   },
   "outputs": [
    {
     "name": "stdout",
     "output_type": "stream",
     "text": [
      "he\n",
      "He1 : 1.0006505 g/mol\n",
      "He1 : 1.5055e+23 particles\n",
      "He1 : 4.002602 ==\n",
      "\tHelium: 4.002602 x 1 = 4.002602\n"
     ]
    }
   ],
   "source": [
    "element = Compound(str(raw_input()))\n",
    "m = element.GetMass().ToMoles()\n",
    "m.amount = 1/4.0\n",
    "print(m.ToGrams())\n",
    "print(m.ToParticles())\n",
    "print(element)"
   ]
  },
  {
   "cell_type": "code",
   "execution_count": 130,
   "metadata": {
    "collapsed": false
   },
   "outputs": [
    {
     "name": "stdout",
     "output_type": "stream",
     "text": [
      "H2\n",
      "Hydrogen, 1.00794 x 2 = 2.01588\n",
      "\n",
      "================================================================================\n",
      "Size Of 'H2' = 2.01588 g/mol\n",
      "================================================================================\n",
      "\n"
     ]
    },
    {
     "data": {
      "text/plain": [
       "2.01588"
      ]
     },
     "execution_count": 130,
     "metadata": {},
     "output_type": "execute_result"
    }
   ],
   "source": [
    "sof(\"H2\")"
   ]
  },
  {
   "cell_type": "code",
   "execution_count": null,
   "metadata": {
    "collapsed": false
   },
   "outputs": [],
   "source": []
  },
  {
   "cell_type": "code",
   "execution_count": null,
   "metadata": {
    "collapsed": false
   },
   "outputs": [],
   "source": []
  }
 ],
 "metadata": {
  "kernelspec": {
   "display_name": "Python 2",
   "language": "python",
   "name": "python2"
  },
  "language_info": {
   "codemirror_mode": {
    "name": "ipython",
    "version": 2
   },
   "file_extension": ".py",
   "mimetype": "text/x-python",
   "name": "python",
   "nbconvert_exporter": "python",
   "pygments_lexer": "ipython2",
   "version": "2.7.11"
  }
 },
 "nbformat": 4,
 "nbformat_minor": 0
}
