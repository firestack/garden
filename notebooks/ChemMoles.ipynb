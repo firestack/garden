{
 "cells": [
  {
   "cell_type": "code",
   "execution_count": 1,
   "metadata": {
    "collapsed": false
   },
   "outputs": [
    {
     "data": {
      "text/plain": [
       "'2.7.11 (v2.7.11:6d1b6a68f775, Dec  5 2015, 20:40:30) [MSC v.1500 64 bit (AMD64)]'"
      ]
     },
     "execution_count": 1,
     "metadata": {},
     "output_type": "execute_result"
    }
   ],
   "source": [
    "import sys\n",
    "sys.version\n"
   ]
  },
  {
   "cell_type": "code",
   "execution_count": 2,
   "metadata": {
    "collapsed": false
   },
   "outputs": [],
   "source": [
    "import periodic"
   ]
  },
  {
   "cell_type": "code",
   "execution_count": 3,
   "metadata": {
    "collapsed": false
   },
   "outputs": [],
   "source": [
    "from periodic import element\n"
   ]
  },
  {
   "cell_type": "code",
   "execution_count": 4,
   "metadata": {
    "collapsed": true
   },
   "outputs": [
    {
     "name": "stdout",
     "output_type": "stream",
     "text": [
      "6.022e+23\n"
     ]
    }
   ],
   "source": [
    "\n",
    "import math\n",
    "mol = 6.022 * 10**23\n",
    "print(mol)"
   ]
  },
  {
   "cell_type": "code",
   "execution_count": 5,
   "metadata": {
    "collapsed": false
   },
   "outputs": [],
   "source": [
    "def GramsToMoles(G, E):\n",
    "    return G / E\n",
    "\n",
    "def MolesToGrams(M, E):\n",
    "    return E * M\n",
    "\n",
    "def MolesToAtoms(M):\n",
    "    return M * mol\n",
    "\n",
    "def AtomsToMoles(A):\n",
    "    return A / mol\n",
    "\n",
    "def Sorter(text):\n",
    "    element = \"\"\n",
    "    number = 1\n",
    "    completedCheck = False\n",
    "    for idx in range(len(text)):\n",
    "        if (text[idx].isdigit()):\n",
    "            \n",
    "\n",
    "            completedCheck = True\n",
    "            element = text[:idx]\n",
    "            number = int(text[idx:])\n",
    "            #return (element, number)\n",
    "            break\n",
    "            \n",
    "    if not completedCheck:\n",
    "        element = text\n",
    "        \n",
    "    return (element, number)\n",
    "        \n",
    "\n",
    "def parser(text):\n",
    "    total = 0\n",
    "    for elem in text.split(\" \"):\n",
    "        if len(elem) < 1: continue\n",
    "        \n",
    "        breakdown = Sorter(elem)\n",
    "        \n",
    "        print(\"\".join(map(str,breakdown)))\n",
    "        \n",
    "        E = element(breakdown[0])\n",
    "        \n",
    "        print(\"{}, {} x {} = {}\".format(E.name, E.mass, breakdown[1], E.mass * breakdown[1]))\n",
    "        total += E.mass * breakdown[1]\n",
    "        \n",
    "    print(\"\\n{a}\\nSize Of '{}' = {} g/mol\\n{a}\\n\".format(text.upper(),total, a=\"=\"*80))\n",
    "    return total\n",
    "\n",
    "sof = parser\n"
   ]
  },
  {
   "cell_type": "code",
   "execution_count": 8,
   "metadata": {
    "collapsed": true
   },
   "outputs": [
    {
     "name": "stdout",
     "output_type": "stream",
     "text": [
      "H2\n",
      "Hydrogen, 1.00794 x 2 = 2.01588\n",
      "S1\n",
      "Sulphur, 32.065 x 1 = 32.065\n",
      "O4\n",
      "Oxygen, 15.9994 x 4 = 63.9976\n",
      "\n",
      "================================================================================\n",
      "Size Of 'H2 S O4' = 98.07848 g/mol\n",
      "================================================================================\n",
      "\n"
     ]
    },
    {
     "data": {
      "text/plain": [
       "98.07848"
      ]
     },
     "execution_count": 8,
     "metadata": {},
     "output_type": "execute_result"
    }
   ],
   "source": [
    "parser(\"H2 S O4\")"
   ]
  },
  {
   "cell_type": "code",
   "execution_count": 9,
   "metadata": {
    "collapsed": true
   },
   "outputs": [
    {
     "name": "stdout",
     "output_type": "stream",
     "text": [
      "C1\n",
      "Carbon, 12.0107 x 1 = 12.0107\n",
      "o2\n",
      "Oxygen, 15.9994 x 2 = 31.9988\n",
      "\n",
      "================================================================================\n",
      "Size Of 'C O2' = 44.0095 g/mol\n",
      "================================================================================\n",
      "\n"
     ]
    },
    {
     "data": {
      "text/plain": [
       "44.0095"
      ]
     },
     "execution_count": 9,
     "metadata": {},
     "output_type": "execute_result"
    }
   ],
   "source": [
    "sof(\"C o2\")"
   ]
  },
  {
   "cell_type": "code",
   "execution_count": 15,
   "metadata": {
    "collapsed": false
   },
   "outputs": [
    {
     "name": "stdout",
     "output_type": "stream",
     "text": [
      "H2\n",
      "Hydrogen, 1.00794 x 2 = 2.01588\n",
      "S1\n",
      "Sulphur, 32.065 x 1 = 32.065\n",
      "O4\n",
      "Oxygen, 15.9994 x 4 = 63.9976\n",
      "\n",
      "================================================================================\n",
      "Size Of 'H2 S O4' = 98.07848 g/mol\n",
      "================================================================================\n",
      "\n",
      "Ca1\n",
      "Calcium, 40.078 x 1 = 40.078\n",
      "O1\n",
      "Oxygen, 15.9994 x 1 = 15.9994\n",
      "\n",
      "================================================================================\n",
      "Size Of 'CA O' = 56.0774 g/mol\n",
      "================================================================================\n",
      "\n",
      "C1\n",
      "Carbon, 12.0107 x 1 = 12.0107\n",
      "H4\n",
      "Hydrogen, 1.00794 x 4 = 4.03176\n",
      "\n",
      "================================================================================\n",
      "Size Of 'C H4' = 16.04246 g/mol\n",
      "================================================================================\n",
      "\n",
      "S1\n",
      "Sulphur, 32.065 x 1 = 32.065\n",
      "o2\n",
      "Oxygen, 15.9994 x 2 = 31.9988\n",
      "\n",
      "================================================================================\n",
      "Size Of 'S O2' = 64.0638 g/mol\n",
      "================================================================================\n",
      "\n",
      "Ca1\n",
      "Calcium, 40.078 x 1 = 40.078\n",
      "N2\n",
      "Nitrogen, 14.0067 x 2 = 28.0134\n",
      "O6\n",
      "Oxygen, 15.9994 x 6 = 95.9964\n",
      "\n",
      "================================================================================\n",
      "Size Of 'CA N2 O6' = 164.0878 g/mol\n",
      "================================================================================\n",
      "\n",
      "C6\n",
      "Carbon, 12.0107 x 6 = 72.0642\n",
      "h12\n",
      "Hydrogen, 1.00794 x 12 = 12.09528\n",
      "o6\n",
      "Oxygen, 15.9994 x 6 = 95.9964\n",
      "\n",
      "================================================================================\n",
      "Size Of 'C6 H12 O6' = 180.15588 g/mol\n",
      "================================================================================\n",
      "\n",
      "K1\n",
      "Potassium, 39.0983 x 1 = 39.0983\n",
      "CL1\n",
      "Chlorine, 35.453 x 1 = 35.453\n",
      "\n",
      "================================================================================\n",
      "Size Of 'K CL' = 74.5513 g/mol\n",
      "================================================================================\n",
      "\n"
     ]
    },
    {
     "data": {
      "text/plain": [
       "0.8349745599999999"
      ]
     },
     "execution_count": 15,
     "metadata": {},
     "output_type": "execute_result"
    }
   ],
   "source": [
    "GramsToMoles(3.0,sof(\"H2 S O4\"))\n",
    "\n",
    "GramsToMoles(3.4 * 10, sof(\"Ca O\"))\n",
    "\n",
    "GramsToMoles(12.0, sof(\"C H4\"))\n",
    "\n",
    "GramsToMoles(13.4, sof(\"S o2\"))\n",
    "\n",
    "MolesToGrams(10.0, sof(\"Ca N2 O6\"))\n",
    "\n",
    "MolesToGrams(1.94 * 10**-3, sof(\"C6 h12 o6\"))\n",
    "\n",
    "MolesToGrams(0.0112, sof(\"K CL\"))"
   ]
  },
  {
   "cell_type": "code",
   "execution_count": 11,
   "metadata": {
    "collapsed": false
   },
   "outputs": [
    {
     "data": {
      "text/plain": [
       "1.5596979999999998e+25"
      ]
     },
     "execution_count": 11,
     "metadata": {},
     "output_type": "execute_result"
    }
   ],
   "source": [
    "MolesToAtoms(25.9)"
   ]
  },
  {
   "cell_type": "code",
   "execution_count": 12,
   "metadata": {
    "collapsed": false
   },
   "outputs": [
    {
     "data": {
      "text/plain": [
       "1.8066e+23"
      ]
     },
     "execution_count": 12,
     "metadata": {},
     "output_type": "execute_result"
    }
   ],
   "source": [
    "MolesToAtoms(0.3)"
   ]
  },
  {
   "cell_type": "code",
   "execution_count": 13,
   "metadata": {
    "collapsed": false
   },
   "outputs": [
    {
     "data": {
      "text/plain": [
       "7.804716041182332"
      ]
     },
     "execution_count": 13,
     "metadata": {},
     "output_type": "execute_result"
    }
   ],
   "source": [
    "AtomsToMoles(4.7 * 10**24)"
   ]
  },
  {
   "cell_type": "code",
   "execution_count": 14,
   "metadata": {
    "collapsed": false
   },
   "outputs": [
    {
     "data": {
      "text/plain": [
       "137.8279641315178"
      ]
     },
     "execution_count": 14,
     "metadata": {},
     "output_type": "execute_result"
    }
   ],
   "source": [
    "AtomsToMoles(8.30 * 10 ** 25)"
   ]
  }
 ],
 "metadata": {
  "kernelspec": {
   "display_name": "Python 2",
   "language": "python",
   "name": "python2"
  },
  "language_info": {
   "codemirror_mode": {
    "name": "ipython",
    "version": 2
   },
   "file_extension": ".py",
   "mimetype": "text/x-python",
   "name": "python",
   "nbconvert_exporter": "python",
   "pygments_lexer": "ipython2",
   "version": "2.7.11"
  }
 },
 "nbformat": 4,
 "nbformat_minor": 0
}
